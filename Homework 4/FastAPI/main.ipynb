{
 "cells": [
  {
   "cell_type": "code",
   "execution_count": 1,
   "id": "5fb31824",
   "metadata": {},
   "outputs": [
    {
     "ename": "ImportError",
     "evalue": "cannot import name 'pchome' from 'models.pchome_model' (C:\\Users\\daisy\\OneDrive\\桌面\\𝐈𝐧𝐭𝐞𝐫𝐧\\𝑻𝒓𝒂𝒅𝒊𝒏𝒈 𝑻𝒓𝒂𝒊𝒏\\TradingTrain\\Homework 4\\FastAPI\\models\\pchome_model.py)",
     "output_type": "error",
     "traceback": [
      "\u001b[1;31m---------------------------------------------------------------------------\u001b[0m",
      "\u001b[1;31mImportError\u001b[0m                               Traceback (most recent call last)",
      "\u001b[1;32m~\\AppData\\Local\\Temp\\ipykernel_43000\\3056615811.py\u001b[0m in \u001b[0;36m<module>\u001b[1;34m\u001b[0m\n\u001b[0;32m      1\u001b[0m \u001b[1;32mfrom\u001b[0m \u001b[0mfastapi\u001b[0m \u001b[1;32mimport\u001b[0m \u001b[0mFastAPI\u001b[0m\u001b[1;33m\u001b[0m\u001b[1;33m\u001b[0m\u001b[0m\n\u001b[1;32m----> 2\u001b[1;33m \u001b[1;32mfrom\u001b[0m \u001b[0mroutes\u001b[0m\u001b[1;33m.\u001b[0m\u001b[0mpchome_route\u001b[0m \u001b[1;32mimport\u001b[0m \u001b[0mpchome_api_router\u001b[0m\u001b[1;33m\u001b[0m\u001b[1;33m\u001b[0m\u001b[0m\n\u001b[0m\u001b[0;32m      3\u001b[0m \u001b[1;33m\u001b[0m\u001b[0m\n\u001b[0;32m      4\u001b[0m \u001b[0mapp\u001b[0m \u001b[1;33m=\u001b[0m \u001b[0mFastAPI\u001b[0m\u001b[1;33m(\u001b[0m\u001b[1;33m)\u001b[0m\u001b[1;33m\u001b[0m\u001b[1;33m\u001b[0m\u001b[0m\n\u001b[0;32m      5\u001b[0m \u001b[1;33m\u001b[0m\u001b[0m\n",
      "\u001b[1;32m~\\OneDrive\\桌面\\𝐈𝐧𝐭𝐞𝐫𝐧\\𝑻𝒓𝒂𝒅𝒊𝒏𝒈 𝑻𝒓𝒂𝒊𝒏\\TradingTrain\\Homework 4\\FastAPI\\routes\\pchome_route.py\u001b[0m in \u001b[0;36m<module>\u001b[1;34m\u001b[0m\n\u001b[0;32m      1\u001b[0m \u001b[1;32mfrom\u001b[0m \u001b[0mfastapi\u001b[0m \u001b[1;32mimport\u001b[0m \u001b[0mAPIRouter\u001b[0m\u001b[1;33m\u001b[0m\u001b[1;33m\u001b[0m\u001b[0m\n\u001b[0;32m      2\u001b[0m \u001b[1;33m\u001b[0m\u001b[0m\n\u001b[1;32m----> 3\u001b[1;33m \u001b[1;32mfrom\u001b[0m \u001b[0mmodels\u001b[0m\u001b[1;33m.\u001b[0m\u001b[0mpchome_model\u001b[0m \u001b[1;32mimport\u001b[0m \u001b[0mpchome\u001b[0m\u001b[1;33m\u001b[0m\u001b[1;33m\u001b[0m\u001b[0m\n\u001b[0m\u001b[0;32m      4\u001b[0m \u001b[1;32mfrom\u001b[0m \u001b[0mconfig\u001b[0m\u001b[1;33m.\u001b[0m\u001b[0mdatabase\u001b[0m \u001b[1;32mimport\u001b[0m \u001b[0mcollection_name\u001b[0m\u001b[1;33m\u001b[0m\u001b[1;33m\u001b[0m\u001b[0m\n\u001b[0;32m      5\u001b[0m \u001b[1;33m\u001b[0m\u001b[0m\n",
      "\u001b[1;31mImportError\u001b[0m: cannot import name 'pchome' from 'models.pchome_model' (C:\\Users\\daisy\\OneDrive\\桌面\\𝐈𝐧𝐭𝐞𝐫𝐧\\𝑻𝒓𝒂𝒅𝒊𝒏𝒈 𝑻𝒓𝒂𝒊𝒏\\TradingTrain\\Homework 4\\FastAPI\\models\\pchome_model.py)"
     ]
    }
   ],
   "source": [
    "from fastapi import FastAPI\n",
    "from routes.pchome_route import pchome_api_router\n",
    "\n",
    "app = FastAPI()\n",
    "\n",
    "app.include_router(pchome_api_router)"
   ]
  }
 ],
 "metadata": {
  "kernelspec": {
   "display_name": "Python 3 (ipykernel)",
   "language": "python",
   "name": "python3"
  },
  "language_info": {
   "codemirror_mode": {
    "name": "ipython",
    "version": 3
   },
   "file_extension": ".py",
   "mimetype": "text/x-python",
   "name": "python",
   "nbconvert_exporter": "python",
   "pygments_lexer": "ipython3",
   "version": "3.9.13"
  }
 },
 "nbformat": 4,
 "nbformat_minor": 5
}
