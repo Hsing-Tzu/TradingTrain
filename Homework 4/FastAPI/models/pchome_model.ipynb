{
 "cells": [
  {
   "cell_type": "code",
   "execution_count": 4,
   "id": "5df44ba4",
   "metadata": {},
   "outputs": [],
   "source": [
    "from pydantic import BaseModel, Field\n",
    "\n",
    "\n",
    "class Pchome(BaseModel):\n",
    "    _id: str = Field(title=\"商品ID\")\n",
    "    prod_name: str = Field(title=\"商品名稱\")\n",
    "    prod_price: int = Field(title=\"商品價格\")\n",
    "    prod_originPrice: int = Field(title=\"商品原始價格\")"
   ]
  }
 ],
 "metadata": {
  "kernelspec": {
   "display_name": "Python 3 (ipykernel)",
   "language": "python",
   "name": "python3"
  },
  "language_info": {
   "codemirror_mode": {
    "name": "ipython",
    "version": 3
   },
   "file_extension": ".py",
   "mimetype": "text/x-python",
   "name": "python",
   "nbconvert_exporter": "python",
   "pygments_lexer": "ipython3",
   "version": "3.9.13"
  }
 },
 "nbformat": 4,
 "nbformat_minor": 5
}
