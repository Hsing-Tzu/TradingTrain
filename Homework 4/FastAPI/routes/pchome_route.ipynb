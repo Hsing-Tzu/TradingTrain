{
 "cells": [
  {
   "cell_type": "code",
   "execution_count": 2,
   "id": "09071871",
   "metadata": {},
   "outputs": [
    {
     "ename": "ModuleNotFoundError",
     "evalue": "No module named 'models'",
     "output_type": "error",
     "traceback": [
      "\u001b[1;31m---------------------------------------------------------------------------\u001b[0m",
      "\u001b[1;31mModuleNotFoundError\u001b[0m                       Traceback (most recent call last)",
      "\u001b[1;32m~\\AppData\\Local\\Temp\\ipykernel_69956\\2806788620.py\u001b[0m in \u001b[0;36m<module>\u001b[1;34m\u001b[0m\n\u001b[0;32m      1\u001b[0m \u001b[1;32mfrom\u001b[0m \u001b[0mfastapi\u001b[0m \u001b[1;32mimport\u001b[0m \u001b[0mAPIRouter\u001b[0m\u001b[1;33m\u001b[0m\u001b[1;33m\u001b[0m\u001b[0m\n\u001b[0;32m      2\u001b[0m \u001b[1;33m\u001b[0m\u001b[0m\n\u001b[1;32m----> 3\u001b[1;33m \u001b[1;32mfrom\u001b[0m \u001b[0mmodels\u001b[0m\u001b[1;33m.\u001b[0m\u001b[0mpchome_model\u001b[0m \u001b[1;32mimport\u001b[0m \u001b[0mpchome\u001b[0m\u001b[1;33m\u001b[0m\u001b[1;33m\u001b[0m\u001b[0m\n\u001b[0m\u001b[0;32m      4\u001b[0m \u001b[1;32mfrom\u001b[0m \u001b[0mconfig\u001b[0m\u001b[1;33m.\u001b[0m\u001b[0mdatabase\u001b[0m \u001b[1;32mimport\u001b[0m \u001b[0mcollection_name\u001b[0m\u001b[1;33m\u001b[0m\u001b[1;33m\u001b[0m\u001b[0m\n\u001b[0;32m      5\u001b[0m \u001b[1;33m\u001b[0m\u001b[0m\n",
      "\u001b[1;31mModuleNotFoundError\u001b[0m: No module named 'models'"
     ]
    }
   ],
   "source": [
    "from fastapi import APIRouter\n",
    "\n",
    "from models.pchome_model import pchome\n",
    "from config.database import collection_name\n",
    "\n",
    "from schemas.pchome_schema import pchomes_serializer, pchome_serializer\n",
    "from bson import ObjectId\n",
    "\n",
    "pchome_api_router = APIRouter()\n",
    "\n",
    "# retrieve\n",
    "@pchome_api_router.get(\"/\")\n",
    "async def get_pchomes():\n",
    "    pchomes = pchomes_serializer(collection_name.find())\n",
    "    return pchomes\n",
    "\n",
    "@pchome_api_router.get(\"/{id}\")\n",
    "async def get_pchome(id: str):\n",
    "    return pchomes_serializer(collection_name.find_one({\"_id\": ObjectId(id)}))\n",
    "\n",
    "\n",
    "# post\n",
    "@pchome_api_router.post(\"/\")\n",
    "async def create_pchome(pchome: Pchome):\n",
    "    _id = collection_name.insert_one(dict(pchome))\n",
    "    return pchomes_serializer(collection_name.find({\"_id\": _id.inserted_id}))\n",
    "\n",
    "\n",
    "# update\n",
    "@pchome_api_router.put(\"/{id}\")\n",
    "async def update_pchome(id: str, pchome: pchome):\n",
    "    collection_name.find_one_and_update({\"_id\": ObjectId(id)}, {\n",
    "        \"$set\": dict(pchome)\n",
    "    })\n",
    "    return pchomes_serializer(collection_name.find({\"_id\": ObjectId(id)}))\n",
    "\n",
    "# delete\n",
    "@pchome_api_router.delete(\"/{id}\")\n",
    "async def delete_pchome(id: str):\n",
    "    collection_name.find_one_and_delete({\"_id\": ObjectId(id)})\n",
    "    return {\"status\": \"ok\"}"
   ]
  },
  {
   "cell_type": "code",
   "execution_count": 5,
   "id": "7b2d5821",
   "metadata": {},
   "outputs": [
    {
     "name": "stdout",
     "output_type": "stream",
     "text": [
      "Collecting base\n",
      "  Downloading base-1.0.4.tar.gz (3.2 kB)\n",
      "  Preparing metadata (setup.py): started\n",
      "  Preparing metadata (setup.py): finished with status 'error'\n"
     ]
    },
    {
     "name": "stderr",
     "output_type": "stream",
     "text": [
      "  error: subprocess-exited-with-error\n",
      "  \n",
      "  python setup.py egg_info did not run successfully.\n",
      "  exit code: 1\n",
      "  \n",
      "  [8 lines of output]\n",
      "  Traceback (most recent call last):\n",
      "    File \"<string>\", line 2, in <module>\n",
      "    File \"<pip-setuptools-caller>\", line 34, in <module>\n",
      "    File \"C:\\Users\\daisy\\AppData\\Local\\Temp\\pip-install-04nt9jq0\\base_a9994ebd2d9c4f16909c52a2054be471\\setup.py\", line 40, in <module>\n",
      "      LONG_DESCRIPTION = read(\"README.rst\")\n",
      "    File \"C:\\Users\\daisy\\AppData\\Local\\Temp\\pip-install-04nt9jq0\\base_a9994ebd2d9c4f16909c52a2054be471\\setup.py\", line 21, in read\n",
      "      return codecs.open(os.path.join(os.path.dirname(__file__), fname)).read()\n",
      "  UnicodeDecodeError: 'cp950' codec can't decode byte 0xe9 in position 0: illegal multibyte sequence\n",
      "  [end of output]\n",
      "  \n",
      "  note: This error originates from a subprocess, and is likely not a problem with pip.\n",
      "error: metadata-generation-failed\n",
      "\n",
      "Encountered error while generating package metadata.\n",
      "\n",
      "See above for output.\n",
      "\n",
      "note: This is an issue with the package mentioned above, not pip.\n",
      "hint: See above for details.\n"
     ]
    }
   ],
   "source": [
    "! pip install base"
   ]
  }
 ],
 "metadata": {
  "kernelspec": {
   "display_name": "Python 3 (ipykernel)",
   "language": "python",
   "name": "python3"
  },
  "language_info": {
   "codemirror_mode": {
    "name": "ipython",
    "version": 3
   },
   "file_extension": ".py",
   "mimetype": "text/x-python",
   "name": "python",
   "nbconvert_exporter": "python",
   "pygments_lexer": "ipython3",
   "version": "3.9.13"
  }
 },
 "nbformat": 4,
 "nbformat_minor": 5
}
