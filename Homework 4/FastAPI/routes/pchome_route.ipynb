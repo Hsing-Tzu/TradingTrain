{
 "cells": [
  {
   "cell_type": "code",
   "execution_count": 2,
   "id": "e4fc7b8a",
   "metadata": {},
   "outputs": [
    {
     "ename": "ModuleNotFoundError",
     "evalue": "No module named 'models'",
     "output_type": "error",
     "traceback": [
      "\u001b[1;31m---------------------------------------------------------------------------\u001b[0m",
      "\u001b[1;31mModuleNotFoundError\u001b[0m                       Traceback (most recent call last)",
      "\u001b[1;32m~\\AppData\\Local\\Temp\\ipykernel_69956\\2806788620.py\u001b[0m in \u001b[0;36m<module>\u001b[1;34m\u001b[0m\n\u001b[0;32m      1\u001b[0m \u001b[1;32mfrom\u001b[0m \u001b[0mfastapi\u001b[0m \u001b[1;32mimport\u001b[0m \u001b[0mAPIRouter\u001b[0m\u001b[1;33m\u001b[0m\u001b[1;33m\u001b[0m\u001b[0m\n\u001b[0;32m      2\u001b[0m \u001b[1;33m\u001b[0m\u001b[0m\n\u001b[1;32m----> 3\u001b[1;33m \u001b[1;32mfrom\u001b[0m \u001b[0mmodels\u001b[0m\u001b[1;33m.\u001b[0m\u001b[0mpchome_model\u001b[0m \u001b[1;32mimport\u001b[0m \u001b[0mpchome\u001b[0m\u001b[1;33m\u001b[0m\u001b[1;33m\u001b[0m\u001b[0m\n\u001b[0m\u001b[0;32m      4\u001b[0m \u001b[1;32mfrom\u001b[0m \u001b[0mconfig\u001b[0m\u001b[1;33m.\u001b[0m\u001b[0mdatabase\u001b[0m \u001b[1;32mimport\u001b[0m \u001b[0mcollection_name\u001b[0m\u001b[1;33m\u001b[0m\u001b[1;33m\u001b[0m\u001b[0m\n\u001b[0;32m      5\u001b[0m \u001b[1;33m\u001b[0m\u001b[0m\n",
      "\u001b[1;31mModuleNotFoundError\u001b[0m: No module named 'models'"
     ]
    }
   ],
   "source": [
    "from fastapi import APIRouter\n",
    "\n",
    "from models.pchome_model import pchome\n",
    "from config.database import collection_name\n",
    "\n",
    "from schemas.pchome_schema import pchomes_serializer, pchome_serializer\n",
    "from bson import ObjectId\n",
    "\n",
    "pchome_api_router = APIRouter()\n",
    "\n",
    "# retrieve\n",
    "@pchome_api_router.get(\"/\")\n",
    "async def get_pchomes():\n",
    "    pchomes = pchomes_serializer(collection_name.find())\n",
    "    return pchomes\n",
    "\n",
    "@pchome_api_router.get(\"/{id}\")\n",
    "async def get_pchome(id: str):\n",
    "    return pchomes_serializer(collection_name.find_one({\"_id\": ObjectId(id)}))\n",
    "\n",
    "\n",
    "# post\n",
    "@pchome_api_router.post(\"/\")\n",
    "async def create_pchome(pchome: Pchome):\n",
    "    _id = collection_name.insert_one(dict(pchome))\n",
    "    return pchomes_serializer(collection_name.find({\"_id\": _id.inserted_id}))\n",
    "\n",
    "\n",
    "# update\n",
    "@pchome_api_router.put(\"/{id}\")\n",
    "async def update_pchome(id: str, pchome: pchome):\n",
    "    collection_name.find_one_and_update({\"_id\": ObjectId(id)}, {\n",
    "        \"$set\": dict(pchome)\n",
    "    })\n",
    "    return pchomes_serializer(collection_name.find({\"_id\": ObjectId(id)}))\n",
    "\n",
    "# delete\n",
    "@pchome_api_router.delete(\"/{id}\")\n",
    "async def delete_pchome(id: str):\n",
    "    collection_name.find_one_and_delete({\"_id\": ObjectId(id)})\n",
    "    return {\"status\": \"ok\"}"
   ]
  }
 ],
 "metadata": {
  "kernelspec": {
   "display_name": "Python 3 (ipykernel)",
   "language": "python",
   "name": "python3"
  },
  "language_info": {
   "codemirror_mode": {
    "name": "ipython",
    "version": 3
   },
   "file_extension": ".py",
   "mimetype": "text/x-python",
   "name": "python",
   "nbconvert_exporter": "python",
   "pygments_lexer": "ipython3",
   "version": "3.9.13"
  }
 },
 "nbformat": 4,
 "nbformat_minor": 5
}
