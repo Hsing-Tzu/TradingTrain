{
 "cells": [
  {
   "cell_type": "code",
   "execution_count": 1,
   "id": "3c95edf1",
   "metadata": {},
   "outputs": [],
   "source": [
    "def pchome_serializer(pchome) -> dict:\n",
    "    return {\n",
    "        \"_id\": str(pchome[\"_id\"]),\n",
    "        \"prod_name\": pchome[\"prod_name\"],\n",
    "        \"prod_price\": pchome[\"prod_price\"],\n",
    "        \"prod_originPrice\": pchome[\"prod_originPrice\"]\n",
    "    }\n",
    "\n",
    "def pchomes_serializer(pchomes) -> list:\n",
    "    return [pchome_serializer(pchome) for pchome in pchomes]"
   ]
  }
 ],
 "metadata": {
  "kernelspec": {
   "display_name": "Python 3 (ipykernel)",
   "language": "python",
   "name": "python3"
  },
  "language_info": {
   "codemirror_mode": {
    "name": "ipython",
    "version": 3
   },
   "file_extension": ".py",
   "mimetype": "text/x-python",
   "name": "python",
   "nbconvert_exporter": "python",
   "pygments_lexer": "ipython3",
   "version": "3.9.13"
  }
 },
 "nbformat": 4,
 "nbformat_minor": 5
}
